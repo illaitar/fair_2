{
  "nbformat": 4,
  "nbformat_minor": 0,
  "metadata": {
    "colab": {
      "provenance": [],
      "gpuType": "T4"
    },
    "kernelspec": {
      "name": "python3",
      "display_name": "Python 3"
    },
    "language_info": {
      "name": "python"
    },
    "accelerator": "GPU"
  },
  "cells": [
    {
      "cell_type": "code",
      "execution_count": 1,
      "metadata": {
        "colab": {
          "base_uri": "https://localhost:8080/"
        },
        "id": "BnlMkEjJThxH",
        "outputId": "94bd9a27-d056-40e3-cd7f-ce08bcd9e964"
      },
      "outputs": [
        {
          "output_type": "stream",
          "name": "stdout",
          "text": [
            "Collecting slangtorch\n",
            "  Downloading slangtorch-1.3.7-py3-none-any.whl.metadata (882 bytes)\n",
            "Requirement already satisfied: filelock in /usr/local/lib/python3.11/dist-packages (from slangtorch) (3.18.0)\n",
            "Collecting hatchling>=1.11.0 (from slangtorch)\n",
            "  Downloading hatchling-1.27.0-py3-none-any.whl.metadata (3.8 kB)\n",
            "Collecting ninja (from slangtorch)\n",
            "  Downloading ninja-1.11.1.4-py3-none-manylinux_2_12_x86_64.manylinux2010_x86_64.whl.metadata (5.0 kB)\n",
            "Requirement already satisfied: torch>=1.1.0 in /usr/local/lib/python3.11/dist-packages (from slangtorch) (2.6.0+cu124)\n",
            "Requirement already satisfied: packaging>=24.2 in /usr/local/lib/python3.11/dist-packages (from hatchling>=1.11.0->slangtorch) (24.2)\n",
            "Collecting pathspec>=0.10.1 (from hatchling>=1.11.0->slangtorch)\n",
            "  Downloading pathspec-0.12.1-py3-none-any.whl.metadata (21 kB)\n",
            "Requirement already satisfied: pluggy>=1.0.0 in /usr/local/lib/python3.11/dist-packages (from hatchling>=1.11.0->slangtorch) (1.5.0)\n",
            "Collecting trove-classifiers (from hatchling>=1.11.0->slangtorch)\n",
            "  Downloading trove_classifiers-2025.3.19.19-py3-none-any.whl.metadata (2.3 kB)\n",
            "Requirement already satisfied: typing-extensions>=4.10.0 in /usr/local/lib/python3.11/dist-packages (from torch>=1.1.0->slangtorch) (4.13.1)\n",
            "Requirement already satisfied: networkx in /usr/local/lib/python3.11/dist-packages (from torch>=1.1.0->slangtorch) (3.4.2)\n",
            "Requirement already satisfied: jinja2 in /usr/local/lib/python3.11/dist-packages (from torch>=1.1.0->slangtorch) (3.1.6)\n",
            "Requirement already satisfied: fsspec in /usr/local/lib/python3.11/dist-packages (from torch>=1.1.0->slangtorch) (2025.3.2)\n",
            "Collecting nvidia-cuda-nvrtc-cu12==12.4.127 (from torch>=1.1.0->slangtorch)\n",
            "  Downloading nvidia_cuda_nvrtc_cu12-12.4.127-py3-none-manylinux2014_x86_64.whl.metadata (1.5 kB)\n",
            "Collecting nvidia-cuda-runtime-cu12==12.4.127 (from torch>=1.1.0->slangtorch)\n",
            "  Downloading nvidia_cuda_runtime_cu12-12.4.127-py3-none-manylinux2014_x86_64.whl.metadata (1.5 kB)\n",
            "Collecting nvidia-cuda-cupti-cu12==12.4.127 (from torch>=1.1.0->slangtorch)\n",
            "  Downloading nvidia_cuda_cupti_cu12-12.4.127-py3-none-manylinux2014_x86_64.whl.metadata (1.6 kB)\n",
            "Collecting nvidia-cudnn-cu12==9.1.0.70 (from torch>=1.1.0->slangtorch)\n",
            "  Downloading nvidia_cudnn_cu12-9.1.0.70-py3-none-manylinux2014_x86_64.whl.metadata (1.6 kB)\n",
            "Collecting nvidia-cublas-cu12==12.4.5.8 (from torch>=1.1.0->slangtorch)\n",
            "  Downloading nvidia_cublas_cu12-12.4.5.8-py3-none-manylinux2014_x86_64.whl.metadata (1.5 kB)\n",
            "Collecting nvidia-cufft-cu12==11.2.1.3 (from torch>=1.1.0->slangtorch)\n",
            "  Downloading nvidia_cufft_cu12-11.2.1.3-py3-none-manylinux2014_x86_64.whl.metadata (1.5 kB)\n",
            "Collecting nvidia-curand-cu12==10.3.5.147 (from torch>=1.1.0->slangtorch)\n",
            "  Downloading nvidia_curand_cu12-10.3.5.147-py3-none-manylinux2014_x86_64.whl.metadata (1.5 kB)\n",
            "Collecting nvidia-cusolver-cu12==11.6.1.9 (from torch>=1.1.0->slangtorch)\n",
            "  Downloading nvidia_cusolver_cu12-11.6.1.9-py3-none-manylinux2014_x86_64.whl.metadata (1.6 kB)\n",
            "Collecting nvidia-cusparse-cu12==12.3.1.170 (from torch>=1.1.0->slangtorch)\n",
            "  Downloading nvidia_cusparse_cu12-12.3.1.170-py3-none-manylinux2014_x86_64.whl.metadata (1.6 kB)\n",
            "Requirement already satisfied: nvidia-cusparselt-cu12==0.6.2 in /usr/local/lib/python3.11/dist-packages (from torch>=1.1.0->slangtorch) (0.6.2)\n",
            "Requirement already satisfied: nvidia-nccl-cu12==2.21.5 in /usr/local/lib/python3.11/dist-packages (from torch>=1.1.0->slangtorch) (2.21.5)\n",
            "Requirement already satisfied: nvidia-nvtx-cu12==12.4.127 in /usr/local/lib/python3.11/dist-packages (from torch>=1.1.0->slangtorch) (12.4.127)\n",
            "Collecting nvidia-nvjitlink-cu12==12.4.127 (from torch>=1.1.0->slangtorch)\n",
            "  Downloading nvidia_nvjitlink_cu12-12.4.127-py3-none-manylinux2014_x86_64.whl.metadata (1.5 kB)\n",
            "Requirement already satisfied: triton==3.2.0 in /usr/local/lib/python3.11/dist-packages (from torch>=1.1.0->slangtorch) (3.2.0)\n",
            "Requirement already satisfied: sympy==1.13.1 in /usr/local/lib/python3.11/dist-packages (from torch>=1.1.0->slangtorch) (1.13.1)\n",
            "Requirement already satisfied: mpmath<1.4,>=1.1.0 in /usr/local/lib/python3.11/dist-packages (from sympy==1.13.1->torch>=1.1.0->slangtorch) (1.3.0)\n",
            "Requirement already satisfied: MarkupSafe>=2.0 in /usr/local/lib/python3.11/dist-packages (from jinja2->torch>=1.1.0->slangtorch) (3.0.2)\n",
            "Downloading slangtorch-1.3.7-py3-none-any.whl (19.3 MB)\n",
            "\u001b[2K   \u001b[90m━━━━━━━━━━━━━━━━━━━━━━━━━━━━━━━━━━━━━━━━\u001b[0m \u001b[32m19.3/19.3 MB\u001b[0m \u001b[31m10.3 MB/s\u001b[0m eta \u001b[36m0:00:00\u001b[0m\n",
            "\u001b[?25hDownloading hatchling-1.27.0-py3-none-any.whl (75 kB)\n",
            "\u001b[2K   \u001b[90m━━━━━━━━━━━━━━━━━━━━━━━━━━━━━━━━━━━━━━━━\u001b[0m \u001b[32m75.8/75.8 kB\u001b[0m \u001b[31m3.7 MB/s\u001b[0m eta \u001b[36m0:00:00\u001b[0m\n",
            "\u001b[?25hDownloading nvidia_cublas_cu12-12.4.5.8-py3-none-manylinux2014_x86_64.whl (363.4 MB)\n",
            "\u001b[2K   \u001b[90m━━━━━━━━━━━━━━━━━━━━━━━━━━━━━━━━━━━━━━━━\u001b[0m \u001b[32m363.4/363.4 MB\u001b[0m \u001b[31m3.7 MB/s\u001b[0m eta \u001b[36m0:00:00\u001b[0m\n",
            "\u001b[?25hDownloading nvidia_cuda_cupti_cu12-12.4.127-py3-none-manylinux2014_x86_64.whl (13.8 MB)\n",
            "\u001b[2K   \u001b[90m━━━━━━━━━━━━━━━━━━━━━━━━━━━━━━━━━━━━━━━━\u001b[0m \u001b[32m13.8/13.8 MB\u001b[0m \u001b[31m64.2 MB/s\u001b[0m eta \u001b[36m0:00:00\u001b[0m\n",
            "\u001b[?25hDownloading nvidia_cuda_nvrtc_cu12-12.4.127-py3-none-manylinux2014_x86_64.whl (24.6 MB)\n",
            "\u001b[2K   \u001b[90m━━━━━━━━━━━━━━━━━━━━━━━━━━━━━━━━━━━━━━━━\u001b[0m \u001b[32m24.6/24.6 MB\u001b[0m \u001b[31m54.9 MB/s\u001b[0m eta \u001b[36m0:00:00\u001b[0m\n",
            "\u001b[?25hDownloading nvidia_cuda_runtime_cu12-12.4.127-py3-none-manylinux2014_x86_64.whl (883 kB)\n",
            "\u001b[2K   \u001b[90m━━━━━━━━━━━━━━━━━━━━━━━━━━━━━━━━━━━━━━━━\u001b[0m \u001b[32m883.7/883.7 kB\u001b[0m \u001b[31m42.7 MB/s\u001b[0m eta \u001b[36m0:00:00\u001b[0m\n",
            "\u001b[?25hDownloading nvidia_cudnn_cu12-9.1.0.70-py3-none-manylinux2014_x86_64.whl (664.8 MB)\n",
            "\u001b[2K   \u001b[90m━━━━━━━━━━━━━━━━━━━━━━━━━━━━━━━━━━━━━━━━\u001b[0m \u001b[32m664.8/664.8 MB\u001b[0m \u001b[31m2.1 MB/s\u001b[0m eta \u001b[36m0:00:00\u001b[0m\n",
            "\u001b[?25hDownloading nvidia_cufft_cu12-11.2.1.3-py3-none-manylinux2014_x86_64.whl (211.5 MB)\n",
            "\u001b[2K   \u001b[90m━━━━━━━━━━━━━━━━━━━━━━━━━━━━━━━━━━━━━━━━\u001b[0m \u001b[32m211.5/211.5 MB\u001b[0m \u001b[31m6.0 MB/s\u001b[0m eta \u001b[36m0:00:00\u001b[0m\n",
            "\u001b[?25hDownloading nvidia_curand_cu12-10.3.5.147-py3-none-manylinux2014_x86_64.whl (56.3 MB)\n",
            "\u001b[2K   \u001b[90m━━━━━━━━━━━━━━━━━━━━━━━━━━━━━━━━━━━━━━━━\u001b[0m \u001b[32m56.3/56.3 MB\u001b[0m \u001b[31m12.8 MB/s\u001b[0m eta \u001b[36m0:00:00\u001b[0m\n",
            "\u001b[?25hDownloading nvidia_cusolver_cu12-11.6.1.9-py3-none-manylinux2014_x86_64.whl (127.9 MB)\n",
            "\u001b[2K   \u001b[90m━━━━━━━━━━━━━━━━━━━━━━━━━━━━━━━━━━━━━━━━\u001b[0m \u001b[32m127.9/127.9 MB\u001b[0m \u001b[31m7.4 MB/s\u001b[0m eta \u001b[36m0:00:00\u001b[0m\n",
            "\u001b[?25hDownloading nvidia_cusparse_cu12-12.3.1.170-py3-none-manylinux2014_x86_64.whl (207.5 MB)\n",
            "\u001b[2K   \u001b[90m━━━━━━━━━━━━━━━━━━━━━━━━━━━━━━━━━━━━━━━━\u001b[0m \u001b[32m207.5/207.5 MB\u001b[0m \u001b[31m5.5 MB/s\u001b[0m eta \u001b[36m0:00:00\u001b[0m\n",
            "\u001b[?25hDownloading nvidia_nvjitlink_cu12-12.4.127-py3-none-manylinux2014_x86_64.whl (21.1 MB)\n",
            "\u001b[2K   \u001b[90m━━━━━━━━━━━━━━━━━━━━━━━━━━━━━━━━━━━━━━━━\u001b[0m \u001b[32m21.1/21.1 MB\u001b[0m \u001b[31m52.8 MB/s\u001b[0m eta \u001b[36m0:00:00\u001b[0m\n",
            "\u001b[?25hDownloading ninja-1.11.1.4-py3-none-manylinux_2_12_x86_64.manylinux2010_x86_64.whl (422 kB)\n",
            "\u001b[2K   \u001b[90m━━━━━━━━━━━━━━━━━━━━━━━━━━━━━━━━━━━━━━━━\u001b[0m \u001b[32m422.8/422.8 kB\u001b[0m \u001b[31m30.4 MB/s\u001b[0m eta \u001b[36m0:00:00\u001b[0m\n",
            "\u001b[?25hDownloading pathspec-0.12.1-py3-none-any.whl (31 kB)\n",
            "Downloading trove_classifiers-2025.3.19.19-py3-none-any.whl (13 kB)\n",
            "Installing collected packages: trove-classifiers, pathspec, nvidia-nvjitlink-cu12, nvidia-curand-cu12, nvidia-cufft-cu12, nvidia-cuda-runtime-cu12, nvidia-cuda-nvrtc-cu12, nvidia-cuda-cupti-cu12, nvidia-cublas-cu12, ninja, nvidia-cusparse-cu12, nvidia-cudnn-cu12, hatchling, nvidia-cusolver-cu12, slangtorch\n",
            "  Attempting uninstall: nvidia-nvjitlink-cu12\n",
            "    Found existing installation: nvidia-nvjitlink-cu12 12.5.82\n",
            "    Uninstalling nvidia-nvjitlink-cu12-12.5.82:\n",
            "      Successfully uninstalled nvidia-nvjitlink-cu12-12.5.82\n",
            "  Attempting uninstall: nvidia-curand-cu12\n",
            "    Found existing installation: nvidia-curand-cu12 10.3.6.82\n",
            "    Uninstalling nvidia-curand-cu12-10.3.6.82:\n",
            "      Successfully uninstalled nvidia-curand-cu12-10.3.6.82\n",
            "  Attempting uninstall: nvidia-cufft-cu12\n",
            "    Found existing installation: nvidia-cufft-cu12 11.2.3.61\n",
            "    Uninstalling nvidia-cufft-cu12-11.2.3.61:\n",
            "      Successfully uninstalled nvidia-cufft-cu12-11.2.3.61\n",
            "  Attempting uninstall: nvidia-cuda-runtime-cu12\n",
            "    Found existing installation: nvidia-cuda-runtime-cu12 12.5.82\n",
            "    Uninstalling nvidia-cuda-runtime-cu12-12.5.82:\n",
            "      Successfully uninstalled nvidia-cuda-runtime-cu12-12.5.82\n",
            "  Attempting uninstall: nvidia-cuda-nvrtc-cu12\n",
            "    Found existing installation: nvidia-cuda-nvrtc-cu12 12.5.82\n",
            "    Uninstalling nvidia-cuda-nvrtc-cu12-12.5.82:\n",
            "      Successfully uninstalled nvidia-cuda-nvrtc-cu12-12.5.82\n",
            "  Attempting uninstall: nvidia-cuda-cupti-cu12\n",
            "    Found existing installation: nvidia-cuda-cupti-cu12 12.5.82\n",
            "    Uninstalling nvidia-cuda-cupti-cu12-12.5.82:\n",
            "      Successfully uninstalled nvidia-cuda-cupti-cu12-12.5.82\n",
            "  Attempting uninstall: nvidia-cublas-cu12\n",
            "    Found existing installation: nvidia-cublas-cu12 12.5.3.2\n",
            "    Uninstalling nvidia-cublas-cu12-12.5.3.2:\n",
            "      Successfully uninstalled nvidia-cublas-cu12-12.5.3.2\n",
            "  Attempting uninstall: nvidia-cusparse-cu12\n",
            "    Found existing installation: nvidia-cusparse-cu12 12.5.1.3\n",
            "    Uninstalling nvidia-cusparse-cu12-12.5.1.3:\n",
            "      Successfully uninstalled nvidia-cusparse-cu12-12.5.1.3\n",
            "  Attempting uninstall: nvidia-cudnn-cu12\n",
            "    Found existing installation: nvidia-cudnn-cu12 9.3.0.75\n",
            "    Uninstalling nvidia-cudnn-cu12-9.3.0.75:\n",
            "      Successfully uninstalled nvidia-cudnn-cu12-9.3.0.75\n",
            "  Attempting uninstall: nvidia-cusolver-cu12\n",
            "    Found existing installation: nvidia-cusolver-cu12 11.6.3.83\n",
            "    Uninstalling nvidia-cusolver-cu12-11.6.3.83:\n",
            "      Successfully uninstalled nvidia-cusolver-cu12-11.6.3.83\n",
            "Successfully installed hatchling-1.27.0 ninja-1.11.1.4 nvidia-cublas-cu12-12.4.5.8 nvidia-cuda-cupti-cu12-12.4.127 nvidia-cuda-nvrtc-cu12-12.4.127 nvidia-cuda-runtime-cu12-12.4.127 nvidia-cudnn-cu12-9.1.0.70 nvidia-cufft-cu12-11.2.1.3 nvidia-curand-cu12-10.3.5.147 nvidia-cusolver-cu12-11.6.1.9 nvidia-cusparse-cu12-12.3.1.170 nvidia-nvjitlink-cu12-12.4.127 pathspec-0.12.1 slangtorch-1.3.7 trove-classifiers-2025.3.19.19\n"
          ]
        }
      ],
      "source": [
        "%pip install slangtorch"
      ]
    },
    {
      "cell_type": "code",
      "source": [
        "import numpy as np\n",
        "import matplotlib.pyplot as plt\n",
        "\n",
        "import cv2\n",
        "import torch\n",
        "import slangtorch\n",
        "import random"
      ],
      "metadata": {
        "id": "Awis0lPBTk-p"
      },
      "execution_count": 2,
      "outputs": []
    },
    {
      "cell_type": "code",
      "source": [
        "m = slangtorch.loadModule(\"render.slang\")"
      ],
      "metadata": {
        "colab": {
          "base_uri": "https://localhost:8080/"
        },
        "id": "8wsG7H_CTmY5",
        "outputId": "fe0cea2f-437d-4239-cebc-1177d8c369c0"
      },
      "execution_count": 65,
      "outputs": [
        {
          "output_type": "stream",
          "name": "stderr",
          "text": [
            "/usr/local/lib/python3.11/dist-packages/torch/utils/cpp_extension.py:2059: UserWarning: TORCH_CUDA_ARCH_LIST is not set, all archs for visible cards are included for compilation. \n",
            "If this is not desired, please set os.environ['TORCH_CUDA_ARCH_LIST'].\n",
            "  warnings.warn(\n"
          ]
        }
      ]
    },
    {
      "cell_type": "code",
      "source": [
        "def grid_size(shape, threads_dim = 16):\n",
        "    return ((shape[0] + threads_dim - 1)//threads_dim, (shape[1] + threads_dim - 1)//threads_dim, 1)\n"
      ],
      "metadata": {
        "id": "tjnvi3kqTpwG"
      },
      "execution_count": 6,
      "outputs": []
    },
    {
      "cell_type": "code",
      "source": [],
      "metadata": {
        "id": "P2WWwgMXUXWI"
      },
      "execution_count": 7,
      "outputs": []
    },
    {
      "cell_type": "code",
      "source": [
        "import json\n",
        "\n",
        "with open('scene_sample.json', 'r') as f:\n",
        "    data = f.read()\n",
        "    cfg = json.loads(data)\n",
        "\n",
        "# cfg['cameras'][0]['pos']=[0, 2, 10]\n",
        "# cfg['cameras'][0]['look_at']=[0, 1, 0]"
      ],
      "metadata": {
        "id": "PH8aLJu8UceY"
      },
      "execution_count": 59,
      "outputs": []
    },
    {
      "cell_type": "code",
      "source": [
        "block_size = (16, 16, 1)\n",
        "shap = (cfg['render_width'], cfg['render_height'])\n",
        "grid_size2 = grid_size(shap)"
      ],
      "metadata": {
        "id": "gLuzsrE-VxjV"
      },
      "execution_count": 52,
      "outputs": []
    },
    {
      "cell_type": "code",
      "source": [
        "for obj in cfg['geometry']:\n",
        "  print(obj)"
      ],
      "metadata": {
        "colab": {
          "base_uri": "https://localhost:8080/"
        },
        "id": "Phuxl05kUx0U",
        "outputId": "215141c5-7d13-4cb4-8a3b-e7854b0fd5e8"
      },
      "execution_count": 53,
      "outputs": [
        {
          "output_type": "stream",
          "name": "stdout",
          "text": [
            "{'type': 'plane', 'point': [0.0, -2.0, 0.0], 'normal': [0.0, 1.0, 0.0], 'material_id': 0}\n",
            "{'type': 'sphere', 'center_radius': [0.0, 1.5, 0.0, 2.0], 'material_id': 2}\n",
            "{'type': 'sphere', 'center_radius': [1.0, -1.0, 1.0, 1.0], 'material_id': 1}\n",
            "{'type': 'sphere', 'center_radius': [-1.0, -1.0, 1.0, 1.0], 'material_id': 3}\n",
            "{'type': 'sphere', 'center_radius': [-1.0, -1.0, -1.0, 1.0], 'material_id': 4}\n",
            "{'type': 'sphere', 'center_radius': [-1.0, -1.0, -1.0, 1.0], 'material_id': 5}\n",
            "{'type': 'sphere', 'center_radius': [5.0, 4.0, -1.0, 2.0], 'material_id': 6}\n",
            "{'type': 'sphere', 'center_radius': [-5.0, 4.0, -1.0, 2.0], 'material_id': 6}\n",
            "{'type': 'sphere', 'center_radius': [3.0, 2.0, 4.0, 1.0], 'material_id': 6}\n",
            "{'type': 'sphere', 'center_radius': [-3.0, 2.0, 4.0, 1.0], 'material_id': 6}\n",
            "{'type': 'sphere', 'center_radius': [3.0, 2.0, -2.0, 1.0], 'material_id': 6}\n",
            "{'type': 'sphere', 'center_radius': [-3.0, 2.0, -2.0, 1.0], 'material_id': 6}\n"
          ]
        }
      ]
    },
    {
      "cell_type": "code",
      "source": [
        "def prepare_scene_objects(json_config):\n",
        "    geometry = json_config[\"geometry\"]\n",
        "    num_objects = len(geometry)\n",
        "\n",
        "    # структура: [type, data0(x,y,z,w), data1(x,y,z,w), material_id]\n",
        "    sdf_array = np.zeros((num_objects, 10), dtype=np.float32)\n",
        "\n",
        "    for i, obj in enumerate(geometry):\n",
        "        if obj[\"type\"] == \"sphere\":\n",
        "            sdf_array[i, 0] = 1  # type: sphere\n",
        "            sdf_array[i, 1:5] = obj[\"center_radius\"]\n",
        "            sdf_array[i, 9] = obj[\"material_id\"]\n",
        "        elif obj[\"type\"] == \"plane\":\n",
        "            sdf_array[i, 0] = 0  # type: plane\n",
        "            sdf_array[i, 1:4] = obj[\"point\"]\n",
        "            sdf_array[i, 5:8] = obj[\"normal\"]\n",
        "            sdf_array[i, 9] = obj[\"material_id\"]\n",
        "        else:\n",
        "            raise ValueError(f\"Unknown geometry type: {obj['type']}\")\n",
        "\n",
        "    sdf_tensor = torch.tensor(sdf_array, dtype=torch.float32).cuda()\n",
        "    return sdf_tensor, num_objects\n",
        "\n",
        "def prepare_camera_struct(config):\n",
        "    cam = config[\"cameras\"][0]\n",
        "    pos = cam[\"pos\"]\n",
        "    look = cam[\"look_at\"]\n",
        "    up = cam[\"up\"]\n",
        "    params = (*pos, *look, *up)\n",
        "    return params\n",
        "\n"
      ],
      "metadata": {
        "id": "oiw3m4J8WEQn"
      },
      "execution_count": 60,
      "outputs": []
    },
    {
      "cell_type": "code",
      "source": [
        "prepare_scene_objects(cfg)"
      ],
      "metadata": {
        "colab": {
          "base_uri": "https://localhost:8080/"
        },
        "id": "cWh4q9NQacDI",
        "outputId": "2073590a-c857-48b7-f6fb-0981ad934ebe"
      },
      "execution_count": 61,
      "outputs": [
        {
          "output_type": "execute_result",
          "data": {
            "text/plain": [
              "(tensor([[ 0.0000,  0.0000, -2.0000,  0.0000,  0.0000,  0.0000,  1.0000,  0.0000,\n",
              "           0.0000,  0.0000],\n",
              "         [ 1.0000,  0.0000,  1.5000,  0.0000,  2.0000,  0.0000,  0.0000,  0.0000,\n",
              "           0.0000,  2.0000],\n",
              "         [ 1.0000,  1.0000, -1.0000,  1.0000,  1.0000,  0.0000,  0.0000,  0.0000,\n",
              "           0.0000,  1.0000],\n",
              "         [ 1.0000, -1.0000, -1.0000,  1.0000,  1.0000,  0.0000,  0.0000,  0.0000,\n",
              "           0.0000,  3.0000],\n",
              "         [ 1.0000, -1.0000, -1.0000, -1.0000,  1.0000,  0.0000,  0.0000,  0.0000,\n",
              "           0.0000,  4.0000],\n",
              "         [ 1.0000, -1.0000, -1.0000, -1.0000,  1.0000,  0.0000,  0.0000,  0.0000,\n",
              "           0.0000,  5.0000],\n",
              "         [ 1.0000,  5.0000,  4.0000, -1.0000,  2.0000,  0.0000,  0.0000,  0.0000,\n",
              "           0.0000,  6.0000],\n",
              "         [ 1.0000, -5.0000,  4.0000, -1.0000,  2.0000,  0.0000,  0.0000,  0.0000,\n",
              "           0.0000,  6.0000],\n",
              "         [ 1.0000,  3.0000,  2.0000,  4.0000,  1.0000,  0.0000,  0.0000,  0.0000,\n",
              "           0.0000,  6.0000],\n",
              "         [ 1.0000, -3.0000,  2.0000,  4.0000,  1.0000,  0.0000,  0.0000,  0.0000,\n",
              "           0.0000,  6.0000],\n",
              "         [ 1.0000,  3.0000,  2.0000, -2.0000,  1.0000,  0.0000,  0.0000,  0.0000,\n",
              "           0.0000,  6.0000],\n",
              "         [ 1.0000, -3.0000,  2.0000, -2.0000,  1.0000,  0.0000,  0.0000,  0.0000,\n",
              "           0.0000,  6.0000]], device='cuda:0'),\n",
              " 12)"
            ]
          },
          "metadata": {},
          "execution_count": 61
        }
      ]
    },
    {
      "cell_type": "code",
      "source": [
        "scene_tensor, obj_count = prepare_scene_objects(cfg)\n",
        "\n",
        "output = torch.zeros((cfg[\"render_width\"], cfg[\"render_height\"], 3), dtype=torch.float32).cuda()\n",
        "\n",
        "m.render(\n",
        "    output=output,\n",
        "    objects=scene_tensor,\n",
        "    obj_count=obj_count,\n",
        "    inp_camera_params=prepare_camera_struct(cfg)\n",
        ").launchRaw(blockSize=block_size, gridSize=grid_size2)"
      ],
      "metadata": {
        "id": "dO7G8vd7adS_"
      },
      "execution_count": 66,
      "outputs": []
    },
    {
      "cell_type": "code",
      "source": [
        " cam_params=prepare_camera_struct(cfg)\n",
        " cam_params"
      ],
      "metadata": {
        "colab": {
          "base_uri": "https://localhost:8080/"
        },
        "id": "og95CH1ige8E",
        "outputId": "5fd56b81-a10f-402c-d61e-f0198d564cb5"
      },
      "execution_count": 67,
      "outputs": [
        {
          "output_type": "execute_result",
          "data": {
            "text/plain": [
              "(0, 4, 10, 0, 0, -1, 0, 1, 0)"
            ]
          },
          "metadata": {},
          "execution_count": 67
        }
      ]
    },
    {
      "cell_type": "code",
      "source": [
        "plt.imshow(output.cpu())"
      ],
      "metadata": {
        "colab": {
          "base_uri": "https://localhost:8080/",
          "height": 450
        },
        "id": "s63NodakbosR",
        "outputId": "a77ec5fc-07ba-441d-e259-e0df28247f7d"
      },
      "execution_count": 68,
      "outputs": [
        {
          "output_type": "execute_result",
          "data": {
            "text/plain": [
              "<matplotlib.image.AxesImage at 0x7d90ec36a050>"
            ]
          },
          "metadata": {},
          "execution_count": 68
        },
        {
          "output_type": "display_data",
          "data": {
            "text/plain": [
              "<Figure size 640x480 with 1 Axes>"
            ],
            "image/png": "[encoded data removed]"
          },
          "metadata": {}
        }
      ]
    },
    {
      "cell_type": "code",
      "source": [
        "print(\"pos\", cfg[\"cameras\"][0][\"pos\"])\n",
        "print(\"look_at\", cfg[\"cameras\"][0][\"look_at\"])"
      ],
      "metadata": {
        "colab": {
          "base_uri": "https://localhost:8080/"
        },
        "id": "s23wIzW-bsiQ",
        "outputId": "5b974964-fa0f-4ed0-9d3c-7d7ec0bf75ed"
      },
      "execution_count": 49,
      "outputs": [
        {
          "output_type": "stream",
          "name": "stdout",
          "text": [
            "pos [0, 4, 10]\n",
            "look_at [0, 0, -1]\n"
          ]
        }
      ]
    },
    {
      "cell_type": "code",
      "source": [],
      "metadata": {
        "id": "Kx0N-rkeigG0"
      },
      "execution_count": null,
      "outputs": []
    }
  ]
}